{
 "cells": [
  {
   "cell_type": "code",
   "execution_count": null,
   "metadata": {},
   "outputs": [],
   "source": [
    "import tensorflow as tf\n",
    "import ssl\n",
    "\n",
    "ssl._create_default_https_context = ssl._create_unverified_context\n",
    "\n",
    "cifar = tf.keras.datasets.cifar100\n",
    "(x_train, y_train), (x_test, y_test) = cifar.load_data()\n",
    "model = tf.keras.applications.ResNet50(\n",
    "    include_top=True,\n",
    "    weights=None,\n",
    "    input_shape=(32, 32, 3),\n",
    "    classes=100,)\n",
    "\n",
    "tf.debugging.set_log_device_placement(True)\n",
    "\n",
    "loss_fn = tf.keras.losses.SparseCategoricalCrossentropy(from_logits=False)\n",
    "print(\"God might be dead\")\n",
    "model.compile(optimizer=\"adam\", loss=loss_fn, metrics=[\"accuracy\"])\n",
    "print(\"God is be dead\")\n",
    "model.fit(x_train, y_train, epochs=5, batch_size=64)\n",
    "print(\"God was be dead\")"
   ]
  },
  {
   "cell_type": "code",
   "execution_count": null,
   "metadata": {},
   "outputs": [],
   "source": [
    "import sys\n",
    "import tensorflow.keras\n",
    "import pandas as pd\n",
    "import sklearn as sk\n",
    "import scipy as sp\n",
    "import tensorflow as tf\n",
    "import platform\n",
    "print(tf.__version__)\n",
    "\n",
    "print(f\"Python Platform: {platform.platform()}\")\n",
    "print(f\"Tensor Flow Version: {tf.__version__}\")\n",
    "# print(f\"Keras Version: {tensorflow.keras.__version__}\")\n",
    "print()\n",
    "print(f\"Python {sys.version}\")\n",
    "print(f\"Pandas {pd.__version__}\")\n",
    "print(f\"Scikit-Learn {sk.__version__}\")\n",
    "print(f\"SciPy {sp.__version__}\")\n",
    "gpu = len(tf.config.list_physical_devices('GPU'))>0\n",
    "print(\"GPU is\", \"available\" if gpu else \"NOT AVAILABLE\")"
   ]
  },
  {
   "cell_type": "code",
   "execution_count": null,
   "metadata": {},
   "outputs": [],
   "source": [
    "import tensorflow as tf\n",
    "print(\"Num GPUs Available: \", len(tf.config.list_physical_devices('GPU')))"
   ]
  },
  {
   "cell_type": "code",
   "execution_count": 2,
   "metadata": {},
   "outputs": [
    {
     "name": "stdout",
     "output_type": "stream",
     "text": [
      "['ASSETS', 'Explorer', 'FastSAM', 'NAS', 'RTDETR', 'SAM', 'YOLO', 'YOLOWorld', '__all__', '__builtins__', '__cached__', '__doc__', '__file__', '__loader__', '__name__', '__package__', '__path__', '__spec__', '__version__', 'cfg', 'checks', 'data', 'download', 'engine', 'hub', 'models', 'nn', 'settings', 'utils']\n"
     ]
    }
   ],
   "source": [
    "import ultralytics\n",
    "print(dir(ultralytics))\n",
    "from ultralytics import YOLO"
   ]
  },
  {
   "cell_type": "code",
   "execution_count": 8,
   "metadata": {},
   "outputs": [
    {
     "name": "stdout",
     "output_type": "stream",
     "text": [
      "Transferred 355/355 items from pretrained weights\n",
      "Ultralytics YOLOv8.2.6 🚀 Python-3.10.12 torch-2.3.0+cu121 CUDA:0 (NVIDIA GeForce RTX 4070, 12008MiB)\n",
      "\u001b[34m\u001b[1mengine/trainer: \u001b[0mtask=detect, mode=train, model=yolov8n.yaml, data=/home/siotlab/Documents/BeehiveMonitoringProject/datasets/CustomBeeDataset/data.yaml, epochs=40, time=None, patience=100, batch=16, imgsz=640, save=True, save_period=-1, cache=False, device=None, workers=8, project=None, name=train111, exist_ok=False, pretrained=True, optimizer=auto, verbose=True, seed=0, deterministic=True, single_cls=False, rect=False, cos_lr=False, close_mosaic=10, resume=False, amp=True, fraction=1.0, profile=False, freeze=None, multi_scale=False, overlap_mask=True, mask_ratio=4, dropout=0.0, val=True, split=val, save_json=False, save_hybrid=False, conf=None, iou=0.7, max_det=300, half=False, dnn=False, plots=True, source=None, vid_stride=1, stream_buffer=False, visualize=False, augment=False, agnostic_nms=False, classes=None, retina_masks=False, embed=None, show=False, save_frames=False, save_txt=False, save_conf=False, save_crop=False, show_labels=True, show_conf=True, show_boxes=True, line_width=None, format=torchscript, keras=False, optimize=False, int8=False, dynamic=False, simplify=False, opset=None, workspace=4, nms=False, lr0=0.01, lrf=0.01, momentum=0.937, weight_decay=0.0005, warmup_epochs=3.0, warmup_momentum=0.8, warmup_bias_lr=0.1, box=7.5, cls=0.5, dfl=1.5, pose=12.0, kobj=1.0, label_smoothing=0.0, nbs=64, hsv_h=0.015, hsv_s=0.7, hsv_v=0.4, degrees=0.0, translate=0.1, scale=0.5, shear=0.0, perspective=0.0, flipud=0.0, fliplr=0.5, bgr=0.0, mosaic=1.0, mixup=0.0, copy_paste=0.0, auto_augment=randaugment, erasing=0.4, crop_fraction=1.0, cfg=None, tracker=bytetrack.yaml, save_dir=runs/detect/train111\n",
      "Overriding model.yaml nc=80 with nc=2\n",
      "\n",
      "                   from  n    params  module                                       arguments                     \n",
      "  0                  -1  1       464  ultralytics.nn.modules.conv.Conv             [3, 16, 3, 2]                 \n",
      "  1                  -1  1      4672  ultralytics.nn.modules.conv.Conv             [16, 32, 3, 2]                \n",
      "  2                  -1  1      7360  ultralytics.nn.modules.block.C2f             [32, 32, 1, True]             \n",
      "  3                  -1  1     18560  ultralytics.nn.modules.conv.Conv             [32, 64, 3, 2]                \n",
      "  4                  -1  2     49664  ultralytics.nn.modules.block.C2f             [64, 64, 2, True]             \n",
      "  5                  -1  1     73984  ultralytics.nn.modules.conv.Conv             [64, 128, 3, 2]               \n",
      "  6                  -1  2    197632  ultralytics.nn.modules.block.C2f             [128, 128, 2, True]           \n",
      "  7                  -1  1    295424  ultralytics.nn.modules.conv.Conv             [128, 256, 3, 2]              \n",
      "  8                  -1  1    460288  ultralytics.nn.modules.block.C2f             [256, 256, 1, True]           \n",
      "  9                  -1  1    164608  ultralytics.nn.modules.block.SPPF            [256, 256, 5]                 \n",
      " 10                  -1  1         0  torch.nn.modules.upsampling.Upsample         [None, 2, 'nearest']          \n",
      " 11             [-1, 6]  1         0  ultralytics.nn.modules.conv.Concat           [1]                           \n",
      " 12                  -1  1    148224  ultralytics.nn.modules.block.C2f             [384, 128, 1]                 \n",
      " 13                  -1  1         0  torch.nn.modules.upsampling.Upsample         [None, 2, 'nearest']          \n",
      " 14             [-1, 4]  1         0  ultralytics.nn.modules.conv.Concat           [1]                           \n",
      " 15                  -1  1     37248  ultralytics.nn.modules.block.C2f             [192, 64, 1]                  \n",
      " 16                  -1  1     36992  ultralytics.nn.modules.conv.Conv             [64, 64, 3, 2]                \n",
      " 17            [-1, 12]  1         0  ultralytics.nn.modules.conv.Concat           [1]                           \n",
      " 18                  -1  1    123648  ultralytics.nn.modules.block.C2f             [192, 128, 1]                 \n",
      " 19                  -1  1    147712  ultralytics.nn.modules.conv.Conv             [128, 128, 3, 2]              \n",
      " 20             [-1, 9]  1         0  ultralytics.nn.modules.conv.Concat           [1]                           \n",
      " 21                  -1  1    493056  ultralytics.nn.modules.block.C2f             [384, 256, 1]                 \n",
      " 22        [15, 18, 21]  1    751702  ultralytics.nn.modules.head.Detect           [2, [64, 128, 256]]           \n",
      "YOLOv8n summary: 225 layers, 3011238 parameters, 3011222 gradients, 8.2 GFLOPs\n",
      "\n",
      "Transferred 319/355 items from pretrained weights\n",
      "\u001b[34m\u001b[1mTensorBoard: \u001b[0mStart with 'tensorboard --logdir runs/detect/train111', view at http://localhost:6006/\n",
      "Freezing layer 'model.22.dfl.conv.weight'\n",
      "\u001b[34m\u001b[1mAMP: \u001b[0mrunning Automatic Mixed Precision (AMP) checks with YOLOv8n...\n",
      "\u001b[34m\u001b[1mAMP: \u001b[0mchecks passed ✅\n"
     ]
    },
    {
     "name": "stderr",
     "output_type": "stream",
     "text": [
      "\u001b[34m\u001b[1mtrain: \u001b[0mScanning /home/siotlab/Documents/BeehiveMonitoringProject/datasets/CustomBeeDataset/train/labels... 2548 images, 6 backgrounds, 0 corrupt: 100%|██████████| 2548/254\u001b[0m\n"
     ]
    },
    {
     "name": "stdout",
     "output_type": "stream",
     "text": [
      "\u001b[34m\u001b[1mtrain: \u001b[0mNew cache created: /home/siotlab/Documents/BeehiveMonitoringProject/datasets/CustomBeeDataset/train/labels.cache\n"
     ]
    },
    {
     "name": "stderr",
     "output_type": "stream",
     "text": [
      "\u001b[34m\u001b[1mval: \u001b[0mScanning /home/siotlab/Documents/BeehiveMonitoringProject/datasets/CustomBeeDataset/valid/labels... 164 images, 0 backgrounds, 0 corrupt: 100%|██████████| 164/164 [00\u001b[0m\n"
     ]
    },
    {
     "name": "stdout",
     "output_type": "stream",
     "text": [
      "\u001b[34m\u001b[1mval: \u001b[0mNew cache created: /home/siotlab/Documents/BeehiveMonitoringProject/datasets/CustomBeeDataset/valid/labels.cache\n",
      "Plotting labels to runs/detect/train111/labels.jpg... \n",
      "\u001b[34m\u001b[1moptimizer:\u001b[0m 'optimizer=auto' found, ignoring 'lr0=0.01' and 'momentum=0.937' and determining best 'optimizer', 'lr0' and 'momentum' automatically... \n",
      "\u001b[34m\u001b[1moptimizer:\u001b[0m AdamW(lr=0.001667, momentum=0.9) with parameter groups 57 weight(decay=0.0), 64 weight(decay=0.0005), 63 bias(decay=0.0)\n",
      "\u001b[34m\u001b[1mTensorBoard: \u001b[0mmodel graph visualization added ✅\n",
      "Image sizes 640 train, 640 val\n",
      "Using 8 dataloader workers\n",
      "Logging results to \u001b[1mruns/detect/train111\u001b[0m\n",
      "Starting training for 40 epochs...\n",
      "\n",
      "      Epoch    GPU_mem   box_loss   cls_loss   dfl_loss  Instances       Size\n"
     ]
    },
    {
     "name": "stderr",
     "output_type": "stream",
     "text": [
      "  0%|          | 0/160 [00:00<?, ?it/s]"
     ]
    },
    {
     "name": "stdout",
     "output_type": "stream",
     "text": [
      "InitializedInitializedInitializedInitializedInitializedInitializedInitializedInitialized\n"
     ]
    },
    {
     "name": "stderr",
     "output_type": "stream",
     "text": [
      "       1/40      2.38G      1.812      2.061      1.386         48        640:  99%|█████████▉| 158/160 [00:19<00:00,  9.15it/s]/home/siotlab/.local/lib/python3.10/site-packages/torch/nn/modules/conv.py:456: UserWarning: Plan failed with a cudnnException: CUDNN_BACKEND_EXECUTION_PLAN_DESCRIPTOR: cudnnFinalize Descriptor Failed cudnn_status: CUDNN_STATUS_NOT_SUPPORTED (Triggered internally at ../aten/src/ATen/native/cudnn/Conv_v8.cpp:919.)\n",
      "  return F.conv2d(input, weight, bias, self.stride,\n",
      "       1/40      2.43G       1.81      2.059      1.385          9        640: 100%|██████████| 160/160 [00:19<00:00,  8.08it/s]\n",
      "                 Class     Images  Instances      Box(P          R      mAP50  mAP50-95):  17%|█▋        | 1/6 [00:00<00:01,  3.25it/s]"
     ]
    },
    {
     "name": "stdout",
     "output_type": "stream",
     "text": [
      "InitializedInitializedInitializedInitializedInitializedInitializedInitializedInitialized\n"
     ]
    },
    {
     "name": "stderr",
     "output_type": "stream",
     "text": [
      "                 Class     Images  Instances      Box(P          R      mAP50  mAP50-95): 100%|██████████| 6/6 [00:01<00:00,  4.85it/s]"
     ]
    },
    {
     "name": "stdout",
     "output_type": "stream",
     "text": [
      "                   all        164        472      0.905      0.415      0.456      0.237\n"
     ]
    },
    {
     "name": "stderr",
     "output_type": "stream",
     "text": [
      "\n"
     ]
    },
    {
     "name": "stdout",
     "output_type": "stream",
     "text": [
      "\n",
      "      Epoch    GPU_mem   box_loss   cls_loss   dfl_loss  Instances       Size\n"
     ]
    },
    {
     "name": "stderr",
     "output_type": "stream",
     "text": [
      "       2/40      2.22G      1.726      1.377      1.346         26        640: 100%|██████████| 160/160 [00:17<00:00,  9.15it/s]\n",
      "                 Class     Images  Instances      Box(P          R      mAP50  mAP50-95): 100%|██████████| 6/6 [00:00<00:00,  7.41it/s]\n"
     ]
    },
    {
     "name": "stdout",
     "output_type": "stream",
     "text": [
      "                   all        164        472      0.935      0.404      0.451      0.227\n",
      "\n",
      "      Epoch    GPU_mem   box_loss   cls_loss   dfl_loss  Instances       Size\n"
     ]
    },
    {
     "name": "stderr",
     "output_type": "stream",
     "text": [
      "       3/40      2.21G        1.7      1.195      1.338         14        640: 100%|██████████| 160/160 [00:18<00:00,  8.88it/s]\n",
      "                 Class     Images  Instances      Box(P          R      mAP50  mAP50-95): 100%|██████████| 6/6 [00:00<00:00,  7.29it/s]\n"
     ]
    },
    {
     "name": "stdout",
     "output_type": "stream",
     "text": [
      "                   all        164        472      0.938      0.413      0.456      0.238\n",
      "\n",
      "      Epoch    GPU_mem   box_loss   cls_loss   dfl_loss  Instances       Size\n"
     ]
    },
    {
     "name": "stderr",
     "output_type": "stream",
     "text": [
      "       4/40      2.21G      1.706      1.119      1.349         17        640: 100%|██████████| 160/160 [00:18<00:00,  8.72it/s]\n",
      "                 Class     Images  Instances      Box(P          R      mAP50  mAP50-95): 100%|██████████| 6/6 [00:00<00:00,  6.70it/s]"
     ]
    },
    {
     "name": "stdout",
     "output_type": "stream",
     "text": [
      "                   all        164        472      0.934      0.409      0.459      0.241\n"
     ]
    },
    {
     "name": "stderr",
     "output_type": "stream",
     "text": [
      "\n"
     ]
    },
    {
     "name": "stdout",
     "output_type": "stream",
     "text": [
      "\n",
      "      Epoch    GPU_mem   box_loss   cls_loss   dfl_loss  Instances       Size\n"
     ]
    },
    {
     "name": "stderr",
     "output_type": "stream",
     "text": [
      "       5/40      2.21G      1.664      1.034      1.331         15        640: 100%|██████████| 160/160 [00:18<00:00,  8.59it/s]\n",
      "                 Class     Images  Instances      Box(P          R      mAP50  mAP50-95): 100%|██████████| 6/6 [00:00<00:00,  7.91it/s]"
     ]
    },
    {
     "name": "stdout",
     "output_type": "stream",
     "text": [
      "                   all        164        472      0.936      0.425      0.469      0.245\n"
     ]
    },
    {
     "name": "stderr",
     "output_type": "stream",
     "text": [
      "\n"
     ]
    },
    {
     "name": "stdout",
     "output_type": "stream",
     "text": [
      "\n",
      "      Epoch    GPU_mem   box_loss   cls_loss   dfl_loss  Instances       Size\n"
     ]
    },
    {
     "name": "stderr",
     "output_type": "stream",
     "text": [
      "       6/40      2.21G      1.644     0.9989      1.321         17        640: 100%|██████████| 160/160 [00:18<00:00,  8.75it/s]\n",
      "                 Class     Images  Instances      Box(P          R      mAP50  mAP50-95): 100%|██████████| 6/6 [00:00<00:00,  6.72it/s]"
     ]
    },
    {
     "name": "stdout",
     "output_type": "stream",
     "text": [
      "                   all        164        472      0.947      0.414      0.469      0.256\n"
     ]
    },
    {
     "name": "stderr",
     "output_type": "stream",
     "text": [
      "\n"
     ]
    },
    {
     "name": "stdout",
     "output_type": "stream",
     "text": [
      "\n",
      "      Epoch    GPU_mem   box_loss   cls_loss   dfl_loss  Instances       Size\n"
     ]
    },
    {
     "name": "stderr",
     "output_type": "stream",
     "text": [
      "       7/40      2.21G      1.639      0.975      1.314         26        640: 100%|██████████| 160/160 [00:17<00:00,  8.98it/s]\n",
      "                 Class     Images  Instances      Box(P          R      mAP50  mAP50-95): 100%|██████████| 6/6 [00:00<00:00,  7.59it/s]"
     ]
    },
    {
     "name": "stdout",
     "output_type": "stream",
     "text": [
      "                   all        164        472      0.934      0.432      0.477      0.263\n"
     ]
    },
    {
     "name": "stderr",
     "output_type": "stream",
     "text": [
      "\n"
     ]
    },
    {
     "name": "stdout",
     "output_type": "stream",
     "text": [
      "\n",
      "      Epoch    GPU_mem   box_loss   cls_loss   dfl_loss  Instances       Size\n"
     ]
    },
    {
     "name": "stderr",
     "output_type": "stream",
     "text": [
      "       8/40      2.21G      1.626     0.9549        1.3          8        640: 100%|██████████| 160/160 [00:17<00:00,  9.31it/s]\n",
      "                 Class     Images  Instances      Box(P          R      mAP50  mAP50-95): 100%|██████████| 6/6 [00:00<00:00,  6.79it/s]"
     ]
    },
    {
     "name": "stdout",
     "output_type": "stream",
     "text": [
      "                   all        164        472      0.934      0.433      0.496      0.273\n"
     ]
    },
    {
     "name": "stderr",
     "output_type": "stream",
     "text": [
      "\n"
     ]
    },
    {
     "name": "stdout",
     "output_type": "stream",
     "text": [
      "\n",
      "      Epoch    GPU_mem   box_loss   cls_loss   dfl_loss  Instances       Size\n"
     ]
    },
    {
     "name": "stderr",
     "output_type": "stream",
     "text": [
      "       9/40      2.21G      1.605     0.9216      1.297         10        640: 100%|██████████| 160/160 [00:16<00:00,  9.51it/s]\n",
      "                 Class     Images  Instances      Box(P          R      mAP50  mAP50-95): 100%|██████████| 6/6 [00:00<00:00,  7.21it/s]"
     ]
    },
    {
     "name": "stdout",
     "output_type": "stream",
     "text": [
      "                   all        164        472      0.433      0.558      0.505      0.283\n"
     ]
    },
    {
     "name": "stderr",
     "output_type": "stream",
     "text": [
      "\n"
     ]
    },
    {
     "name": "stdout",
     "output_type": "stream",
     "text": [
      "\n",
      "      Epoch    GPU_mem   box_loss   cls_loss   dfl_loss  Instances       Size\n"
     ]
    },
    {
     "name": "stderr",
     "output_type": "stream",
     "text": [
      "      10/40      2.21G      1.587     0.9152      1.289         16        640: 100%|██████████| 160/160 [00:18<00:00,  8.69it/s]\n",
      "                 Class     Images  Instances      Box(P          R      mAP50  mAP50-95): 100%|██████████| 6/6 [00:00<00:00,  7.22it/s]"
     ]
    },
    {
     "name": "stdout",
     "output_type": "stream",
     "text": [
      "                   all        164        472      0.458      0.512      0.524      0.299\n"
     ]
    },
    {
     "name": "stderr",
     "output_type": "stream",
     "text": [
      "\n"
     ]
    },
    {
     "name": "stdout",
     "output_type": "stream",
     "text": [
      "\n",
      "      Epoch    GPU_mem   box_loss   cls_loss   dfl_loss  Instances       Size\n"
     ]
    },
    {
     "name": "stderr",
     "output_type": "stream",
     "text": [
      "      11/40      2.21G      1.587     0.9027      1.286         17        640: 100%|██████████| 160/160 [00:17<00:00,  8.99it/s]\n",
      "                 Class     Images  Instances      Box(P          R      mAP50  mAP50-95): 100%|██████████| 6/6 [00:00<00:00,  7.38it/s]"
     ]
    },
    {
     "name": "stdout",
     "output_type": "stream",
     "text": [
      "                   all        164        472      0.755      0.592      0.628      0.347\n"
     ]
    },
    {
     "name": "stderr",
     "output_type": "stream",
     "text": [
      "\n"
     ]
    },
    {
     "name": "stdout",
     "output_type": "stream",
     "text": [
      "\n",
      "      Epoch    GPU_mem   box_loss   cls_loss   dfl_loss  Instances       Size\n"
     ]
    },
    {
     "name": "stderr",
     "output_type": "stream",
     "text": [
      "      12/40      2.21G      1.591      0.879      1.285         20        640: 100%|██████████| 160/160 [00:18<00:00,  8.58it/s]\n",
      "                 Class     Images  Instances      Box(P          R      mAP50  mAP50-95): 100%|██████████| 6/6 [00:00<00:00,  6.93it/s]"
     ]
    },
    {
     "name": "stdout",
     "output_type": "stream",
     "text": [
      "                   all        164        472      0.621      0.591      0.657      0.417\n"
     ]
    },
    {
     "name": "stderr",
     "output_type": "stream",
     "text": [
      "\n"
     ]
    },
    {
     "name": "stdout",
     "output_type": "stream",
     "text": [
      "\n",
      "      Epoch    GPU_mem   box_loss   cls_loss   dfl_loss  Instances       Size\n"
     ]
    },
    {
     "name": "stderr",
     "output_type": "stream",
     "text": [
      "      13/40      2.21G      1.577     0.8709      1.272         15        640: 100%|██████████| 160/160 [00:18<00:00,  8.78it/s]\n",
      "                 Class     Images  Instances      Box(P          R      mAP50  mAP50-95): 100%|██████████| 6/6 [00:00<00:00,  7.45it/s]"
     ]
    },
    {
     "name": "stdout",
     "output_type": "stream",
     "text": [
      "                   all        164        472      0.792      0.649      0.731      0.473\n"
     ]
    },
    {
     "name": "stderr",
     "output_type": "stream",
     "text": [
      "\n"
     ]
    },
    {
     "name": "stdout",
     "output_type": "stream",
     "text": [
      "\n",
      "      Epoch    GPU_mem   box_loss   cls_loss   dfl_loss  Instances       Size\n"
     ]
    },
    {
     "name": "stderr",
     "output_type": "stream",
     "text": [
      "      14/40      2.21G      1.563     0.8428      1.257         15        640: 100%|██████████| 160/160 [00:18<00:00,  8.82it/s]\n",
      "                 Class     Images  Instances      Box(P          R      mAP50  mAP50-95): 100%|██████████| 6/6 [00:00<00:00,  7.25it/s]"
     ]
    },
    {
     "name": "stdout",
     "output_type": "stream",
     "text": [
      "                   all        164        472      0.656      0.678      0.675      0.417\n"
     ]
    },
    {
     "name": "stderr",
     "output_type": "stream",
     "text": [
      "\n"
     ]
    },
    {
     "name": "stdout",
     "output_type": "stream",
     "text": [
      "\n",
      "      Epoch    GPU_mem   box_loss   cls_loss   dfl_loss  Instances       Size\n"
     ]
    },
    {
     "name": "stderr",
     "output_type": "stream",
     "text": [
      "      15/40      2.21G      1.561     0.8321      1.267         13        640: 100%|██████████| 160/160 [00:18<00:00,  8.69it/s]\n",
      "                 Class     Images  Instances      Box(P          R      mAP50  mAP50-95): 100%|██████████| 6/6 [00:00<00:00,  7.23it/s]"
     ]
    },
    {
     "name": "stdout",
     "output_type": "stream",
     "text": [
      "                   all        164        472      0.714      0.714      0.712      0.452\n"
     ]
    },
    {
     "name": "stderr",
     "output_type": "stream",
     "text": [
      "\n"
     ]
    },
    {
     "name": "stdout",
     "output_type": "stream",
     "text": [
      "\n",
      "      Epoch    GPU_mem   box_loss   cls_loss   dfl_loss  Instances       Size\n"
     ]
    },
    {
     "name": "stderr",
     "output_type": "stream",
     "text": [
      "      16/40      2.21G      1.538     0.8248      1.262         11        640: 100%|██████████| 160/160 [00:18<00:00,  8.70it/s]\n",
      "                 Class     Images  Instances      Box(P          R      mAP50  mAP50-95): 100%|██████████| 6/6 [00:00<00:00,  7.19it/s]"
     ]
    },
    {
     "name": "stdout",
     "output_type": "stream",
     "text": [
      "                   all        164        472      0.851      0.728      0.758      0.482\n"
     ]
    },
    {
     "name": "stderr",
     "output_type": "stream",
     "text": [
      "\n"
     ]
    },
    {
     "name": "stdout",
     "output_type": "stream",
     "text": [
      "\n",
      "      Epoch    GPU_mem   box_loss   cls_loss   dfl_loss  Instances       Size\n"
     ]
    },
    {
     "name": "stderr",
     "output_type": "stream",
     "text": [
      "      17/40      2.21G      1.541     0.8081       1.25         25        640: 100%|██████████| 160/160 [00:18<00:00,  8.54it/s]\n",
      "                 Class     Images  Instances      Box(P          R      mAP50  mAP50-95): 100%|██████████| 6/6 [00:00<00:00,  7.22it/s]"
     ]
    },
    {
     "name": "stdout",
     "output_type": "stream",
     "text": [
      "                   all        164        472       0.86      0.793       0.85       0.54\n"
     ]
    },
    {
     "name": "stderr",
     "output_type": "stream",
     "text": [
      "\n"
     ]
    },
    {
     "name": "stdout",
     "output_type": "stream",
     "text": [
      "\n",
      "      Epoch    GPU_mem   box_loss   cls_loss   dfl_loss  Instances       Size\n"
     ]
    },
    {
     "name": "stderr",
     "output_type": "stream",
     "text": [
      "      18/40      2.21G      1.529      0.809      1.252         14        640: 100%|██████████| 160/160 [00:17<00:00,  8.91it/s]\n",
      "                 Class     Images  Instances      Box(P          R      mAP50  mAP50-95): 100%|██████████| 6/6 [00:00<00:00,  7.17it/s]"
     ]
    },
    {
     "name": "stdout",
     "output_type": "stream",
     "text": [
      "                   all        164        472      0.821      0.786      0.787      0.491\n"
     ]
    },
    {
     "name": "stderr",
     "output_type": "stream",
     "text": [
      "\n"
     ]
    },
    {
     "name": "stdout",
     "output_type": "stream",
     "text": [
      "\n",
      "      Epoch    GPU_mem   box_loss   cls_loss   dfl_loss  Instances       Size\n"
     ]
    },
    {
     "name": "stderr",
     "output_type": "stream",
     "text": [
      "      19/40      2.21G      1.533     0.7895      1.246         10        640: 100%|██████████| 160/160 [00:17<00:00,  8.97it/s]\n",
      "                 Class     Images  Instances      Box(P          R      mAP50  mAP50-95): 100%|██████████| 6/6 [00:00<00:00,  7.42it/s]"
     ]
    },
    {
     "name": "stdout",
     "output_type": "stream",
     "text": [
      "                   all        164        472      0.786      0.792      0.829      0.505\n"
     ]
    },
    {
     "name": "stderr",
     "output_type": "stream",
     "text": [
      "\n"
     ]
    },
    {
     "name": "stdout",
     "output_type": "stream",
     "text": [
      "\n",
      "      Epoch    GPU_mem   box_loss   cls_loss   dfl_loss  Instances       Size\n"
     ]
    },
    {
     "name": "stderr",
     "output_type": "stream",
     "text": [
      "      20/40      2.21G      1.496     0.7663      1.227         22        640: 100%|██████████| 160/160 [00:18<00:00,  8.77it/s]\n",
      "                 Class     Images  Instances      Box(P          R      mAP50  mAP50-95): 100%|██████████| 6/6 [00:00<00:00,  7.20it/s]"
     ]
    },
    {
     "name": "stdout",
     "output_type": "stream",
     "text": [
      "                   all        164        472      0.838      0.759      0.804      0.517\n"
     ]
    },
    {
     "name": "stderr",
     "output_type": "stream",
     "text": [
      "\n"
     ]
    },
    {
     "name": "stdout",
     "output_type": "stream",
     "text": [
      "\n",
      "      Epoch    GPU_mem   box_loss   cls_loss   dfl_loss  Instances       Size\n"
     ]
    },
    {
     "name": "stderr",
     "output_type": "stream",
     "text": [
      "      21/40      2.21G      1.486     0.7617      1.223         20        640: 100%|██████████| 160/160 [00:17<00:00,  9.00it/s]\n",
      "                 Class     Images  Instances      Box(P          R      mAP50  mAP50-95): 100%|██████████| 6/6 [00:00<00:00,  7.24it/s]"
     ]
    },
    {
     "name": "stdout",
     "output_type": "stream",
     "text": [
      "                   all        164        472       0.93      0.741      0.846       0.54\n"
     ]
    },
    {
     "name": "stderr",
     "output_type": "stream",
     "text": [
      "\n"
     ]
    },
    {
     "name": "stdout",
     "output_type": "stream",
     "text": [
      "\n",
      "      Epoch    GPU_mem   box_loss   cls_loss   dfl_loss  Instances       Size\n"
     ]
    },
    {
     "name": "stderr",
     "output_type": "stream",
     "text": [
      "      22/40      2.21G      1.478     0.7522      1.224          5        640: 100%|██████████| 160/160 [00:17<00:00,  9.21it/s]\n",
      "                 Class     Images  Instances      Box(P          R      mAP50  mAP50-95): 100%|██████████| 6/6 [00:00<00:00,  7.19it/s]"
     ]
    },
    {
     "name": "stdout",
     "output_type": "stream",
     "text": [
      "                   all        164        472      0.798      0.792      0.812      0.519\n"
     ]
    },
    {
     "name": "stderr",
     "output_type": "stream",
     "text": [
      "\n"
     ]
    },
    {
     "name": "stdout",
     "output_type": "stream",
     "text": [
      "\n",
      "      Epoch    GPU_mem   box_loss   cls_loss   dfl_loss  Instances       Size\n"
     ]
    },
    {
     "name": "stderr",
     "output_type": "stream",
     "text": [
      "      23/40      2.21G      1.473     0.7416      1.224         14        640: 100%|██████████| 160/160 [00:16<00:00,  9.61it/s]\n",
      "                 Class     Images  Instances      Box(P          R      mAP50  mAP50-95): 100%|██████████| 6/6 [00:00<00:00,  8.22it/s]"
     ]
    },
    {
     "name": "stdout",
     "output_type": "stream",
     "text": [
      "                   all        164        472      0.824      0.801      0.816      0.499\n"
     ]
    },
    {
     "name": "stderr",
     "output_type": "stream",
     "text": [
      "\n"
     ]
    },
    {
     "name": "stdout",
     "output_type": "stream",
     "text": [
      "\n",
      "      Epoch    GPU_mem   box_loss   cls_loss   dfl_loss  Instances       Size\n"
     ]
    },
    {
     "name": "stderr",
     "output_type": "stream",
     "text": [
      "      24/40      2.21G      1.471     0.7416      1.223         13        640: 100%|██████████| 160/160 [00:17<00:00,  8.99it/s]\n",
      "                 Class     Images  Instances      Box(P          R      mAP50  mAP50-95): 100%|██████████| 6/6 [00:00<00:00,  6.99it/s]"
     ]
    },
    {
     "name": "stdout",
     "output_type": "stream",
     "text": [
      "                   all        164        472      0.744       0.77      0.827      0.534\n"
     ]
    },
    {
     "name": "stderr",
     "output_type": "stream",
     "text": [
      "\n"
     ]
    },
    {
     "name": "stdout",
     "output_type": "stream",
     "text": [
      "\n",
      "      Epoch    GPU_mem   box_loss   cls_loss   dfl_loss  Instances       Size\n"
     ]
    },
    {
     "name": "stderr",
     "output_type": "stream",
     "text": [
      "      25/40      2.21G      1.464     0.7304      1.217         12        640: 100%|██████████| 160/160 [00:17<00:00,  9.02it/s]\n",
      "                 Class     Images  Instances      Box(P          R      mAP50  mAP50-95): 100%|██████████| 6/6 [00:00<00:00,  7.05it/s]"
     ]
    },
    {
     "name": "stdout",
     "output_type": "stream",
     "text": [
      "                   all        164        472       0.64       0.87      0.777      0.493\n"
     ]
    },
    {
     "name": "stderr",
     "output_type": "stream",
     "text": [
      "\n"
     ]
    },
    {
     "name": "stdout",
     "output_type": "stream",
     "text": [
      "\n",
      "      Epoch    GPU_mem   box_loss   cls_loss   dfl_loss  Instances       Size\n"
     ]
    },
    {
     "name": "stderr",
     "output_type": "stream",
     "text": [
      "      26/40      2.21G       1.46     0.7222      1.211         14        640: 100%|██████████| 160/160 [00:18<00:00,  8.74it/s]\n",
      "                 Class     Images  Instances      Box(P          R      mAP50  mAP50-95): 100%|██████████| 6/6 [00:00<00:00,  7.27it/s]"
     ]
    },
    {
     "name": "stdout",
     "output_type": "stream",
     "text": [
      "                   all        164        472      0.794       0.76      0.781      0.499\n"
     ]
    },
    {
     "name": "stderr",
     "output_type": "stream",
     "text": [
      "\n"
     ]
    },
    {
     "name": "stdout",
     "output_type": "stream",
     "text": [
      "\n",
      "      Epoch    GPU_mem   box_loss   cls_loss   dfl_loss  Instances       Size\n"
     ]
    },
    {
     "name": "stderr",
     "output_type": "stream",
     "text": [
      "      27/40      2.21G      1.439     0.7091      1.195         17        640: 100%|██████████| 160/160 [00:17<00:00,  9.11it/s]\n",
      "                 Class     Images  Instances      Box(P          R      mAP50  mAP50-95): 100%|██████████| 6/6 [00:00<00:00,  7.05it/s]"
     ]
    },
    {
     "name": "stdout",
     "output_type": "stream",
     "text": [
      "                   all        164        472      0.746      0.775      0.804      0.506\n"
     ]
    },
    {
     "name": "stderr",
     "output_type": "stream",
     "text": [
      "\n"
     ]
    },
    {
     "name": "stdout",
     "output_type": "stream",
     "text": [
      "\n",
      "      Epoch    GPU_mem   box_loss   cls_loss   dfl_loss  Instances       Size\n"
     ]
    },
    {
     "name": "stderr",
     "output_type": "stream",
     "text": [
      "      28/40      2.21G      1.429     0.6977      1.189         14        640: 100%|██████████| 160/160 [00:18<00:00,  8.84it/s]\n",
      "                 Class     Images  Instances      Box(P          R      mAP50  mAP50-95): 100%|██████████| 6/6 [00:00<00:00,  7.27it/s]"
     ]
    },
    {
     "name": "stdout",
     "output_type": "stream",
     "text": [
      "                   all        164        472      0.747      0.701      0.749      0.484\n"
     ]
    },
    {
     "name": "stderr",
     "output_type": "stream",
     "text": [
      "\n"
     ]
    },
    {
     "name": "stdout",
     "output_type": "stream",
     "text": [
      "\n",
      "      Epoch    GPU_mem   box_loss   cls_loss   dfl_loss  Instances       Size\n"
     ]
    },
    {
     "name": "stderr",
     "output_type": "stream",
     "text": [
      "      29/40      2.21G      1.431     0.6923       1.19         25        640: 100%|██████████| 160/160 [00:18<00:00,  8.80it/s]\n",
      "                 Class     Images  Instances      Box(P          R      mAP50  mAP50-95): 100%|██████████| 6/6 [00:00<00:00,  7.12it/s]"
     ]
    },
    {
     "name": "stdout",
     "output_type": "stream",
     "text": [
      "                   all        164        472      0.794      0.748      0.791      0.506\n"
     ]
    },
    {
     "name": "stderr",
     "output_type": "stream",
     "text": [
      "\n"
     ]
    },
    {
     "name": "stdout",
     "output_type": "stream",
     "text": [
      "\n",
      "      Epoch    GPU_mem   box_loss   cls_loss   dfl_loss  Instances       Size\n"
     ]
    },
    {
     "name": "stderr",
     "output_type": "stream",
     "text": [
      "      30/40      2.21G      1.417      0.681      1.187         19        640: 100%|██████████| 160/160 [00:17<00:00,  8.89it/s]\n",
      "                 Class     Images  Instances      Box(P          R      mAP50  mAP50-95): 100%|██████████| 6/6 [00:00<00:00,  8.10it/s]"
     ]
    },
    {
     "name": "stdout",
     "output_type": "stream",
     "text": [
      "                   all        164        472      0.813      0.715      0.767      0.463\n"
     ]
    },
    {
     "name": "stderr",
     "output_type": "stream",
     "text": [
      "\n"
     ]
    },
    {
     "name": "stdout",
     "output_type": "stream",
     "text": [
      "Closing dataloader mosaic\n",
      "\n",
      "      Epoch    GPU_mem   box_loss   cls_loss   dfl_loss  Instances       Size\n"
     ]
    },
    {
     "name": "stderr",
     "output_type": "stream",
     "text": [
      "      31/40      2.21G      1.379     0.6292      1.197         11        640: 100%|██████████| 160/160 [00:18<00:00,  8.85it/s]\n",
      "                 Class     Images  Instances      Box(P          R      mAP50  mAP50-95): 100%|██████████| 6/6 [00:00<00:00,  7.50it/s]"
     ]
    },
    {
     "name": "stdout",
     "output_type": "stream",
     "text": [
      "                   all        164        472      0.721      0.904      0.803      0.516\n"
     ]
    },
    {
     "name": "stderr",
     "output_type": "stream",
     "text": [
      "\n"
     ]
    },
    {
     "name": "stdout",
     "output_type": "stream",
     "text": [
      "\n",
      "      Epoch    GPU_mem   box_loss   cls_loss   dfl_loss  Instances       Size\n"
     ]
    },
    {
     "name": "stderr",
     "output_type": "stream",
     "text": [
      "      32/40      2.21G      1.358     0.6094      1.185         14        640: 100%|██████████| 160/160 [00:17<00:00,  9.15it/s]\n",
      "                 Class     Images  Instances      Box(P          R      mAP50  mAP50-95): 100%|██████████| 6/6 [00:00<00:00,  6.89it/s]"
     ]
    },
    {
     "name": "stdout",
     "output_type": "stream",
     "text": [
      "                   all        164        472      0.774      0.744      0.809      0.505\n"
     ]
    },
    {
     "name": "stderr",
     "output_type": "stream",
     "text": [
      "\n"
     ]
    },
    {
     "name": "stdout",
     "output_type": "stream",
     "text": [
      "\n",
      "      Epoch    GPU_mem   box_loss   cls_loss   dfl_loss  Instances       Size\n"
     ]
    },
    {
     "name": "stderr",
     "output_type": "stream",
     "text": [
      "      33/40      2.21G      1.357     0.6022      1.192          9        640: 100%|██████████| 160/160 [00:16<00:00,  9.50it/s]\n",
      "                 Class     Images  Instances      Box(P          R      mAP50  mAP50-95): 100%|██████████| 6/6 [00:00<00:00,  7.01it/s]"
     ]
    },
    {
     "name": "stdout",
     "output_type": "stream",
     "text": [
      "                   all        164        472      0.855      0.753      0.833      0.551\n"
     ]
    },
    {
     "name": "stderr",
     "output_type": "stream",
     "text": [
      "\n"
     ]
    },
    {
     "name": "stdout",
     "output_type": "stream",
     "text": [
      "\n",
      "      Epoch    GPU_mem   box_loss   cls_loss   dfl_loss  Instances       Size\n"
     ]
    },
    {
     "name": "stderr",
     "output_type": "stream",
     "text": [
      "      34/40      2.21G      1.341     0.5968      1.172         10        640: 100%|██████████| 160/160 [00:17<00:00,  9.14it/s]\n",
      "                 Class     Images  Instances      Box(P          R      mAP50  mAP50-95): 100%|██████████| 6/6 [00:00<00:00,  7.31it/s]"
     ]
    },
    {
     "name": "stdout",
     "output_type": "stream",
     "text": [
      "                   all        164        472      0.859      0.765      0.823       0.53\n"
     ]
    },
    {
     "name": "stderr",
     "output_type": "stream",
     "text": [
      "\n"
     ]
    },
    {
     "name": "stdout",
     "output_type": "stream",
     "text": [
      "\n",
      "      Epoch    GPU_mem   box_loss   cls_loss   dfl_loss  Instances       Size\n"
     ]
    },
    {
     "name": "stderr",
     "output_type": "stream",
     "text": [
      "      35/40      2.21G      1.319     0.5831      1.166         13        640: 100%|██████████| 160/160 [00:17<00:00,  9.29it/s]\n",
      "                 Class     Images  Instances      Box(P          R      mAP50  mAP50-95): 100%|██████████| 6/6 [00:00<00:00,  6.90it/s]"
     ]
    },
    {
     "name": "stdout",
     "output_type": "stream",
     "text": [
      "                   all        164        472      0.767      0.774      0.759      0.484\n"
     ]
    },
    {
     "name": "stderr",
     "output_type": "stream",
     "text": [
      "\n"
     ]
    },
    {
     "name": "stdout",
     "output_type": "stream",
     "text": [
      "\n",
      "      Epoch    GPU_mem   box_loss   cls_loss   dfl_loss  Instances       Size\n"
     ]
    },
    {
     "name": "stderr",
     "output_type": "stream",
     "text": [
      "      36/40      2.21G      1.306     0.5818      1.167         14        640: 100%|██████████| 160/160 [00:17<00:00,  9.09it/s]\n",
      "                 Class     Images  Instances      Box(P          R      mAP50  mAP50-95): 100%|██████████| 6/6 [00:00<00:00,  7.37it/s]"
     ]
    },
    {
     "name": "stdout",
     "output_type": "stream",
     "text": [
      "                   all        164        472      0.706      0.799      0.783      0.508\n"
     ]
    },
    {
     "name": "stderr",
     "output_type": "stream",
     "text": [
      "\n"
     ]
    },
    {
     "name": "stdout",
     "output_type": "stream",
     "text": [
      "\n",
      "      Epoch    GPU_mem   box_loss   cls_loss   dfl_loss  Instances       Size\n"
     ]
    },
    {
     "name": "stderr",
     "output_type": "stream",
     "text": [
      "      37/40      2.21G        1.3     0.5627      1.154          7        640: 100%|██████████| 160/160 [00:17<00:00,  9.30it/s]\n",
      "                 Class     Images  Instances      Box(P          R      mAP50  mAP50-95): 100%|██████████| 6/6 [00:00<00:00,  7.54it/s]"
     ]
    },
    {
     "name": "stdout",
     "output_type": "stream",
     "text": [
      "                   all        164        472      0.712      0.813      0.801      0.514\n"
     ]
    },
    {
     "name": "stderr",
     "output_type": "stream",
     "text": [
      "\n"
     ]
    },
    {
     "name": "stdout",
     "output_type": "stream",
     "text": [
      "\n",
      "      Epoch    GPU_mem   box_loss   cls_loss   dfl_loss  Instances       Size\n"
     ]
    },
    {
     "name": "stderr",
     "output_type": "stream",
     "text": [
      "      38/40      2.21G      1.273     0.5502      1.141         12        640: 100%|██████████| 160/160 [00:15<00:00, 10.10it/s]\n",
      "                 Class     Images  Instances      Box(P          R      mAP50  mAP50-95): 100%|██████████| 6/6 [00:00<00:00,  8.12it/s]"
     ]
    },
    {
     "name": "stdout",
     "output_type": "stream",
     "text": [
      "                   all        164        472      0.723      0.784      0.804      0.529\n"
     ]
    },
    {
     "name": "stderr",
     "output_type": "stream",
     "text": [
      "\n"
     ]
    },
    {
     "name": "stdout",
     "output_type": "stream",
     "text": [
      "\n",
      "      Epoch    GPU_mem   box_loss   cls_loss   dfl_loss  Instances       Size\n"
     ]
    },
    {
     "name": "stderr",
     "output_type": "stream",
     "text": [
      "      39/40      2.21G      1.268     0.5506      1.137         10        640: 100%|██████████| 160/160 [00:14<00:00, 10.70it/s]\n",
      "                 Class     Images  Instances      Box(P          R      mAP50  mAP50-95): 100%|██████████| 6/6 [00:00<00:00,  8.00it/s]"
     ]
    },
    {
     "name": "stdout",
     "output_type": "stream",
     "text": [
      "                   all        164        472      0.758      0.794      0.802      0.517\n"
     ]
    },
    {
     "name": "stderr",
     "output_type": "stream",
     "text": [
      "\n"
     ]
    },
    {
     "name": "stdout",
     "output_type": "stream",
     "text": [
      "\n",
      "      Epoch    GPU_mem   box_loss   cls_loss   dfl_loss  Instances       Size\n"
     ]
    },
    {
     "name": "stderr",
     "output_type": "stream",
     "text": [
      "      40/40      2.21G      1.251     0.5414      1.135          8        640: 100%|██████████| 160/160 [00:17<00:00,  9.19it/s]\n",
      "                 Class     Images  Instances      Box(P          R      mAP50  mAP50-95): 100%|██████████| 6/6 [00:00<00:00,  7.16it/s]"
     ]
    },
    {
     "name": "stdout",
     "output_type": "stream",
     "text": [
      "                   all        164        472      0.749      0.722      0.794      0.517\n"
     ]
    },
    {
     "name": "stderr",
     "output_type": "stream",
     "text": [
      "\n"
     ]
    },
    {
     "name": "stdout",
     "output_type": "stream",
     "text": [
      "\n",
      "40 epochs completed in 0.271 hours.\n",
      "Optimizer stripped from runs/detect/train111/weights/last.pt, 6.3MB\n",
      "Optimizer stripped from runs/detect/train111/weights/best.pt, 6.3MB\n",
      "\n",
      "Validating runs/detect/train111/weights/best.pt...\n",
      "Ultralytics YOLOv8.2.6 🚀 Python-3.10.12 torch-2.3.0+cu121 CUDA:0 (NVIDIA GeForce RTX 4070, 12008MiB)\n",
      "YOLOv8n summary (fused): 168 layers, 3006038 parameters, 0 gradients, 8.1 GFLOPs\n"
     ]
    },
    {
     "name": "stderr",
     "output_type": "stream",
     "text": [
      "                 Class     Images  Instances      Box(P          R      mAP50  mAP50-95): 100%|██████████| 6/6 [00:01<00:00,  3.81it/s]\n"
     ]
    },
    {
     "name": "stdout",
     "output_type": "stream",
     "text": [
      "                   all        164        472      0.855      0.752      0.832      0.551\n",
      "                   Bee        164        461      0.959      0.777      0.954      0.543\n",
      "            Pollen Bee        164         11       0.75      0.727      0.711      0.558\n",
      "Speed: 0.2ms preprocess, 1.6ms inference, 0.0ms loss, 1.4ms postprocess per image\n",
      "Results saved to \u001b[1mruns/detect/train111\u001b[0m\n"
     ]
    }
   ],
   "source": [
    "model = YOLO('yolov8n.yaml').load('yolov8n.pt')  # build from YAML and transfer weights\n",
    "results = model.train(data='/home/siotlab/Documents/BeehiveMonitoringProject/datasets/CustomBeeDataset/data.yaml', batch=16, epochs=40, imgsz=640, tracker='bytetrack.yaml')\n",
    "\n",
    "\n"
   ]
  },
  {
   "cell_type": "code",
   "execution_count": 4,
   "metadata": {},
   "outputs": [
    {
     "name": "stdout",
     "output_type": "stream",
     "text": [
      "Ultralytics YOLOv8.1.19 🚀 Python-3.11.5 torch-2.2.1 CPU (Apple M1 Pro)\n",
      "YOLOv8n summary (fused): 168 layers, 3006038 parameters, 0 gradients, 8.1 GFLOPs\n",
      "\n",
      "\u001b[34m\u001b[1mPyTorch:\u001b[0m starting from '/Users/anshusahu/Documents/BeeClassificationProject/train111/weights/best.pt' with input shape (1, 3, 640, 640) BCHW and output shape(s) (1, 6, 8400) (6.0 MB)\n",
      "\n",
      "\u001b[34m\u001b[1mTorchScript:\u001b[0m starting export with torch 2.2.1...\n",
      "\u001b[34m\u001b[1mTorchScript:\u001b[0m export success ✅ 1.0s, saved as '/Users/anshusahu/Documents/BeeClassificationProject/train111/weights/best.torchscript' (11.9 MB)\n",
      "\u001b[31m\u001b[1mrequirements:\u001b[0m Ultralytics requirement ['ncnn'] not found, attempting AutoUpdate...\n",
      "Collecting ncnn\n",
      "  Downloading ncnn-1.0.20240410-cp311-cp311-macosx_11_0_arm64.whl.metadata (26 kB)\n",
      "Requirement already satisfied: numpy in /Users/anshusahu/anaconda3/envs/ObjectDetection/lib/python3.11/site-packages (from ncnn) (1.26.2)\n",
      "Requirement already satisfied: tqdm in /Users/anshusahu/anaconda3/envs/ObjectDetection/lib/python3.11/site-packages (from ncnn) (4.66.1)\n",
      "Requirement already satisfied: requests in /Users/anshusahu/anaconda3/envs/ObjectDetection/lib/python3.11/site-packages (from ncnn) (2.31.0)\n",
      "Collecting portalocker (from ncnn)\n",
      "  Downloading portalocker-2.8.2-py3-none-any.whl.metadata (8.5 kB)\n",
      "Requirement already satisfied: opencv-python in /Users/anshusahu/anaconda3/envs/ObjectDetection/lib/python3.11/site-packages (from ncnn) (4.9.0.80)\n",
      "Requirement already satisfied: charset-normalizer<4,>=2 in /Users/anshusahu/anaconda3/envs/ObjectDetection/lib/python3.11/site-packages (from requests->ncnn) (3.3.2)\n",
      "Requirement already satisfied: idna<4,>=2.5 in /Users/anshusahu/anaconda3/envs/ObjectDetection/lib/python3.11/site-packages (from requests->ncnn) (3.6)\n",
      "Requirement already satisfied: urllib3<3,>=1.21.1 in /Users/anshusahu/anaconda3/envs/ObjectDetection/lib/python3.11/site-packages (from requests->ncnn) (2.1.0)\n",
      "Requirement already satisfied: certifi>=2017.4.17 in /Users/anshusahu/anaconda3/envs/ObjectDetection/lib/python3.11/site-packages (from requests->ncnn) (2023.11.17)\n",
      "Downloading ncnn-1.0.20240410-cp311-cp311-macosx_11_0_arm64.whl (7.1 MB)\n",
      "\u001b[2K   \u001b[90m━━━━━━━━━━━━━━━━━━━━━━━━━━━━━━━━━━━━━━━━\u001b[0m \u001b[32m7.1/7.1 MB\u001b[0m \u001b[31m12.1 MB/s\u001b[0m eta \u001b[36m0:00:00\u001b[0ma \u001b[36m0:00:01\u001b[0m\n",
      "\u001b[?25hDownloading portalocker-2.8.2-py3-none-any.whl (17 kB)\n",
      "Installing collected packages: portalocker, ncnn\n",
      "Successfully installed ncnn-1.0.20240410 portalocker-2.8.2\n",
      "\n",
      "\u001b[31m\u001b[1mrequirements:\u001b[0m AutoUpdate success ✅ 6.0s, installed 1 package: ['ncnn']\n",
      "\u001b[31m\u001b[1mrequirements:\u001b[0m ⚠️ \u001b[1mRestart runtime or rerun command for updates to take effect\u001b[0m\n",
      "\n",
      "\n",
      "\u001b[34m\u001b[1mncnn:\u001b[0m starting export with ncnn 1.0.20240410...\n",
      "\u001b[34m\u001b[1mncnn:\u001b[0m WARNING ⚠️ PNNX not found. Attempting to download binary file from https://github.com/pnnx/pnnx/.\n",
      "Note PNNX Binary file must be placed in current working directory or in /Users/anshusahu/anaconda3/envs/ObjectDetection/lib/python3.11/site-packages/ultralytics. See PNNX repo for full installation instructions.\n",
      "Downloading https://github.com/pnnx/pnnx/releases/download/20240527/pnnx-20240527-macos.zip to 'pnnx-20240527-macos.zip'...\n"
     ]
    },
    {
     "name": "stderr",
     "output_type": "stream",
     "text": [
      "100%|██████████| 35.1M/35.1M [00:05<00:00, 7.18MB/s]\n",
      "Unzipping pnnx-20240527-macos.zip to /Users/anshusahu/Documents/BeeClassificationProject/pnnx-20240527-macos...: 100%|██████████| 3/3 [00:00<00:00,  5.90file/s]\n"
     ]
    },
    {
     "name": "stdout",
     "output_type": "stream",
     "text": [
      "\u001b[34m\u001b[1mncnn:\u001b[0m running '/Users/anshusahu/anaconda3/envs/ObjectDetection/lib/python3.11/site-packages/ultralytics/pnnx /Users/anshusahu/Documents/BeeClassificationProject/train111/weights/best.torchscript ncnnparam=/Users/anshusahu/Documents/BeeClassificationProject/train111/weights/best_ncnn_model/model.ncnn.param ncnnbin=/Users/anshusahu/Documents/BeeClassificationProject/train111/weights/best_ncnn_model/model.ncnn.bin ncnnpy=/Users/anshusahu/Documents/BeeClassificationProject/train111/weights/best_ncnn_model/model_ncnn.py pnnxparam=/Users/anshusahu/Documents/BeeClassificationProject/train111/weights/best_ncnn_model/model.pnnx.param pnnxbin=/Users/anshusahu/Documents/BeeClassificationProject/train111/weights/best_ncnn_model/model.pnnx.bin pnnxpy=/Users/anshusahu/Documents/BeeClassificationProject/train111/weights/best_ncnn_model/model_pnnx.py pnnxonnx=/Users/anshusahu/Documents/BeeClassificationProject/train111/weights/best_ncnn_model/model.pnnx.onnx fp16=0 device=cpu inputshape=\"[1, 3, 640, 640]\"'\n"
     ]
    },
    {
     "name": "stderr",
     "output_type": "stream",
     "text": [
      "pnnxparam = /Users/anshusahu/Documents/BeeClassificationProject/train111/weights/best_ncnn_model/model.pnnx.param\n",
      "pnnxbin = /Users/anshusahu/Documents/BeeClassificationProject/train111/weights/best_ncnn_model/model.pnnx.bin\n",
      "pnnxpy = /Users/anshusahu/Documents/BeeClassificationProject/train111/weights/best_ncnn_model/model_pnnx.py\n",
      "pnnxonnx = /Users/anshusahu/Documents/BeeClassificationProject/train111/weights/best_ncnn_model/model.pnnx.onnx\n",
      "ncnnparam = /Users/anshusahu/Documents/BeeClassificationProject/train111/weights/best_ncnn_model/model.ncnn.param\n",
      "ncnnbin = /Users/anshusahu/Documents/BeeClassificationProject/train111/weights/best_ncnn_model/model.ncnn.bin\n",
      "ncnnpy = /Users/anshusahu/Documents/BeeClassificationProject/train111/weights/best_ncnn_model/model_ncnn.py\n",
      "fp16 = 0\n",
      "optlevel = 2\n",
      "device = cpu\n",
      "inputshape = [1,3,640,640]f32\n",
      "inputshape2 = \n",
      "customop = \n",
      "moduleop = \n",
      "############# pass_level0\n",
      "inline module = ultralytics.nn.modules.block.Bottleneck\n",
      "inline module = ultralytics.nn.modules.block.C2f\n",
      "inline module = ultralytics.nn.modules.block.DFL\n",
      "inline module = ultralytics.nn.modules.block.SPPF\n",
      "inline module = ultralytics.nn.modules.conv.Concat\n",
      "inline module = ultralytics.nn.modules.conv.Conv\n",
      "inline module = ultralytics.nn.modules.head.Detect\n",
      "inline module = ultralytics.nn.modules.block.Bottleneck\n",
      "inline module = ultralytics.nn.modules.block.C2f\n",
      "inline module = ultralytics.nn.modules.block.DFL\n",
      "inline module = ultralytics.nn.modules.block.SPPF\n",
      "inline module = ultralytics.nn.modules.conv.Concat\n",
      "inline module = ultralytics.nn.modules.conv.Conv\n",
      "inline module = ultralytics.nn.modules.head.Detect\n",
      "\n",
      "----------------\n",
      "\n",
      "############# pass_level1\n",
      "############# pass_level2\n",
      "############# pass_level3\n",
      "############# pass_level4\n",
      "############# pass_level5\n",
      "############# pass_ncnn\n"
     ]
    },
    {
     "name": "stdout",
     "output_type": "stream",
     "text": [
      "\u001b[34m\u001b[1mncnn:\u001b[0m export success ✅ 16.6s, saved as '/Users/anshusahu/Documents/BeeClassificationProject/train111/weights/best_ncnn_model' (11.6 MB)\n",
      "\n",
      "Export complete (18.2s)\n",
      "Results saved to \u001b[1m/Users/anshusahu/Documents/BeeClassificationProject/train111/weights\u001b[0m\n",
      "Predict:         yolo predict task=detect model=/Users/anshusahu/Documents/BeeClassificationProject/train111/weights/best_ncnn_model imgsz=640  \n",
      "Validate:        yolo val task=detect model=/Users/anshusahu/Documents/BeeClassificationProject/train111/weights/best_ncnn_model imgsz=640 data=/home/siotlab/Documents/BeehiveMonitoringProject/datasets/CustomBeeDataset/data.yaml  \n",
      "Visualize:       https://netron.app\n"
     ]
    },
    {
     "data": {
      "text/plain": [
       "'/Users/anshusahu/Documents/BeeClassificationProject/train111/weights/best_ncnn_model'"
      ]
     },
     "execution_count": 4,
     "metadata": {},
     "output_type": "execute_result"
    }
   ],
   "source": [
    "model = YOLO('/Users/anshusahu/Documents/BeeClassificationProject/train111/weights/best.pt')\n",
    "\n",
    "# Export the model to NCNN format\n",
    "model.export(format=\"ncnn\")  # creates 'yolov8n_ncnn_model'"
   ]
  },
  {
   "cell_type": "code",
   "execution_count": 3,
   "metadata": {},
   "outputs": [
    {
     "name": "stdout",
     "output_type": "stream",
     "text": [
      "WARNING ⚠️ Unable to automatically guess model task, assuming 'task=detect'. Explicitly define task for your model, i.e. 'task=detect', 'segment', 'classify','pose' or 'obb'.\n"
     ]
    }
   ],
   "source": [
    "# Load the exported NCNN model\n",
    "from ultralytics import YOLO\n",
    "ncnn_model = YOLO(\"/Users/anshusahu/Documents/BeeClassificationProject/train111/weights/best_ncnn_model\")"
   ]
  },
  {
   "cell_type": "code",
   "execution_count": 52,
   "metadata": {},
   "outputs": [
    {
     "name": "stdout",
     "output_type": "stream",
     "text": [
      "\n",
      "image 1/1 /Users/anshusahu/Documents/BeeClassificationProject/datasets/CustomBeeDataset/test/images/20240129160239_jpg.rf.278187c4caff61f4b29b811f887bc003.jpg: 640x640 4 Bees, 198.3ms\n",
      "Speed: 3.5ms preprocess, 198.3ms inference, 2.2ms postprocess per image at shape (1, 3, 640, 640)\n",
      "\n",
      "image 1/1 /Users/anshusahu/Documents/BeeClassificationProject/datasets/CustomBeeDataset/test/images/20240129160239_jpg.rf.278187c4caff61f4b29b811f887bc003.jpg: 640x640 4 Bees, 71.9ms\n",
      "Speed: 2.0ms preprocess, 71.9ms inference, 8.8ms postprocess per image at shape (1, 3, 640, 640)\n",
      "\n",
      "image 1/1 /Users/anshusahu/Documents/BeeClassificationProject/datasets/CustomBeeDataset/test/images/20240129160239_jpg.rf.278187c4caff61f4b29b811f887bc003.jpg: 640x640 4 Bees, 36.6ms\n",
      "Speed: 2.3ms preprocess, 36.6ms inference, 0.6ms postprocess per image at shape (1, 3, 640, 640)\n",
      "\n",
      "image 1/1 /Users/anshusahu/Documents/BeeClassificationProject/datasets/CustomBeeDataset/test/images/20240129160239_jpg.rf.278187c4caff61f4b29b811f887bc003.jpg: 640x640 4 Bees, 90.7ms\n",
      "Speed: 1.9ms preprocess, 90.7ms inference, 3.1ms postprocess per image at shape (1, 3, 640, 640)\n",
      "\n",
      "image 1/1 /Users/anshusahu/Documents/BeeClassificationProject/datasets/CustomBeeDataset/test/images/20240129160239_jpg.rf.278187c4caff61f4b29b811f887bc003.jpg: 640x640 4 Bees, 93.0ms\n",
      "Speed: 2.8ms preprocess, 93.0ms inference, 2.5ms postprocess per image at shape (1, 3, 640, 640)\n",
      "\n",
      "image 1/1 /Users/anshusahu/Documents/BeeClassificationProject/datasets/CustomBeeDataset/test/images/20240129160239_jpg.rf.278187c4caff61f4b29b811f887bc003.jpg: 640x640 4 Bees, 28.9ms\n",
      "Speed: 1.7ms preprocess, 28.9ms inference, 0.5ms postprocess per image at shape (1, 3, 640, 640)\n",
      "\n",
      "image 1/1 /Users/anshusahu/Documents/BeeClassificationProject/datasets/CustomBeeDataset/test/images/20240129160239_jpg.rf.278187c4caff61f4b29b811f887bc003.jpg: 640x640 4 Bees, 33.7ms\n",
      "Speed: 1.5ms preprocess, 33.7ms inference, 1.3ms postprocess per image at shape (1, 3, 640, 640)\n",
      "\n",
      "image 1/1 /Users/anshusahu/Documents/BeeClassificationProject/datasets/CustomBeeDataset/test/images/20240129160239_jpg.rf.278187c4caff61f4b29b811f887bc003.jpg: 640x640 4 Bees, 51.3ms\n",
      "Speed: 1.3ms preprocess, 51.3ms inference, 3.7ms postprocess per image at shape (1, 3, 640, 640)\n",
      "\n",
      "image 1/1 /Users/anshusahu/Documents/BeeClassificationProject/datasets/CustomBeeDataset/test/images/20240129160239_jpg.rf.278187c4caff61f4b29b811f887bc003.jpg: 640x640 4 Bees, 29.7ms\n",
      "Speed: 1.9ms preprocess, 29.7ms inference, 0.5ms postprocess per image at shape (1, 3, 640, 640)\n",
      "\n",
      "image 1/1 /Users/anshusahu/Documents/BeeClassificationProject/datasets/CustomBeeDataset/test/images/20240129160239_jpg.rf.278187c4caff61f4b29b811f887bc003.jpg: 640x640 4 Bees, 90.4ms\n",
      "Speed: 1.2ms preprocess, 90.4ms inference, 2.9ms postprocess per image at shape (1, 3, 640, 640)\n",
      "\n",
      "image 1/1 /Users/anshusahu/Documents/BeeClassificationProject/datasets/CustomBeeDataset/test/images/20240129160239_jpg.rf.278187c4caff61f4b29b811f887bc003.jpg: 640x640 4 Bees, 51.9ms\n",
      "Speed: 1.5ms preprocess, 51.9ms inference, 0.6ms postprocess per image at shape (1, 3, 640, 640)\n",
      "\n",
      "image 1/1 /Users/anshusahu/Documents/BeeClassificationProject/datasets/CustomBeeDataset/test/images/20240129160239_jpg.rf.278187c4caff61f4b29b811f887bc003.jpg: 640x640 4 Bees, 52.7ms\n",
      "Speed: 0.9ms preprocess, 52.7ms inference, 1.6ms postprocess per image at shape (1, 3, 640, 640)\n",
      "\n",
      "image 1/1 /Users/anshusahu/Documents/BeeClassificationProject/datasets/CustomBeeDataset/test/images/20240129160239_jpg.rf.278187c4caff61f4b29b811f887bc003.jpg: 640x640 4 Bees, 50.3ms\n",
      "Speed: 0.9ms preprocess, 50.3ms inference, 0.5ms postprocess per image at shape (1, 3, 640, 640)\n",
      "\n",
      "image 1/1 /Users/anshusahu/Documents/BeeClassificationProject/datasets/CustomBeeDataset/test/images/20240129160239_jpg.rf.278187c4caff61f4b29b811f887bc003.jpg: 640x640 4 Bees, 49.2ms\n",
      "Speed: 2.2ms preprocess, 49.2ms inference, 0.5ms postprocess per image at shape (1, 3, 640, 640)\n",
      "\n",
      "image 1/1 /Users/anshusahu/Documents/BeeClassificationProject/datasets/CustomBeeDataset/test/images/20240129160239_jpg.rf.278187c4caff61f4b29b811f887bc003.jpg: 640x640 4 Bees, 42.6ms\n",
      "Speed: 2.1ms preprocess, 42.6ms inference, 4.0ms postprocess per image at shape (1, 3, 640, 640)\n",
      "\n",
      "image 1/1 /Users/anshusahu/Documents/BeeClassificationProject/datasets/CustomBeeDataset/test/images/20240129160239_jpg.rf.278187c4caff61f4b29b811f887bc003.jpg: 640x640 4 Bees, 49.8ms\n",
      "Speed: 1.0ms preprocess, 49.8ms inference, 0.6ms postprocess per image at shape (1, 3, 640, 640)\n",
      "\n",
      "image 1/1 /Users/anshusahu/Documents/BeeClassificationProject/datasets/CustomBeeDataset/test/images/20240129160239_jpg.rf.278187c4caff61f4b29b811f887bc003.jpg: 640x640 4 Bees, 74.0ms\n",
      "Speed: 1.8ms preprocess, 74.0ms inference, 1.0ms postprocess per image at shape (1, 3, 640, 640)\n",
      "\n",
      "image 1/1 /Users/anshusahu/Documents/BeeClassificationProject/datasets/CustomBeeDataset/test/images/20240129160239_jpg.rf.278187c4caff61f4b29b811f887bc003.jpg: 640x640 4 Bees, 41.7ms\n",
      "Speed: 1.5ms preprocess, 41.7ms inference, 0.5ms postprocess per image at shape (1, 3, 640, 640)\n",
      "\n",
      "image 1/1 /Users/anshusahu/Documents/BeeClassificationProject/datasets/CustomBeeDataset/test/images/20240129160239_jpg.rf.278187c4caff61f4b29b811f887bc003.jpg: 640x640 4 Bees, 36.3ms\n",
      "Speed: 1.7ms preprocess, 36.3ms inference, 2.3ms postprocess per image at shape (1, 3, 640, 640)\n",
      "\n",
      "image 1/1 /Users/anshusahu/Documents/BeeClassificationProject/datasets/CustomBeeDataset/test/images/20240129160239_jpg.rf.278187c4caff61f4b29b811f887bc003.jpg: 640x640 4 Bees, 60.8ms\n",
      "Speed: 1.4ms preprocess, 60.8ms inference, 0.7ms postprocess per image at shape (1, 3, 640, 640)\n",
      "\n",
      "image 1/1 /Users/anshusahu/Documents/BeeClassificationProject/datasets/CustomBeeDataset/test/images/20240129160239_jpg.rf.278187c4caff61f4b29b811f887bc003.jpg: 640x640 4 Bees, 101.9ms\n",
      "Speed: 1.1ms preprocess, 101.9ms inference, 0.5ms postprocess per image at shape (1, 3, 640, 640)\n",
      "\n",
      "image 1/1 /Users/anshusahu/Documents/BeeClassificationProject/datasets/CustomBeeDataset/test/images/20240129160239_jpg.rf.278187c4caff61f4b29b811f887bc003.jpg: 640x640 4 Bees, 61.4ms\n",
      "Speed: 1.5ms preprocess, 61.4ms inference, 1.8ms postprocess per image at shape (1, 3, 640, 640)\n",
      "\n",
      "image 1/1 /Users/anshusahu/Documents/BeeClassificationProject/datasets/CustomBeeDataset/test/images/20240129160239_jpg.rf.278187c4caff61f4b29b811f887bc003.jpg: 640x640 4 Bees, 36.8ms\n",
      "Speed: 1.1ms preprocess, 36.8ms inference, 1.8ms postprocess per image at shape (1, 3, 640, 640)\n",
      "\n",
      "image 1/1 /Users/anshusahu/Documents/BeeClassificationProject/datasets/CustomBeeDataset/test/images/20240129160239_jpg.rf.278187c4caff61f4b29b811f887bc003.jpg: 640x640 4 Bees, 50.0ms\n",
      "Speed: 1.5ms preprocess, 50.0ms inference, 0.5ms postprocess per image at shape (1, 3, 640, 640)\n",
      "\n",
      "image 1/1 /Users/anshusahu/Documents/BeeClassificationProject/datasets/CustomBeeDataset/test/images/20240129160239_jpg.rf.278187c4caff61f4b29b811f887bc003.jpg: 640x640 4 Bees, 43.4ms\n",
      "Speed: 1.4ms preprocess, 43.4ms inference, 0.9ms postprocess per image at shape (1, 3, 640, 640)\n",
      "\n",
      "image 1/1 /Users/anshusahu/Documents/BeeClassificationProject/datasets/CustomBeeDataset/test/images/20240129160239_jpg.rf.278187c4caff61f4b29b811f887bc003.jpg: 640x640 4 Bees, 46.6ms\n",
      "Speed: 1.3ms preprocess, 46.6ms inference, 0.5ms postprocess per image at shape (1, 3, 640, 640)\n",
      "\n",
      "image 1/1 /Users/anshusahu/Documents/BeeClassificationProject/datasets/CustomBeeDataset/test/images/20240129160239_jpg.rf.278187c4caff61f4b29b811f887bc003.jpg: 640x640 4 Bees, 46.6ms\n",
      "Speed: 1.1ms preprocess, 46.6ms inference, 1.0ms postprocess per image at shape (1, 3, 640, 640)\n",
      "\n",
      "image 1/1 /Users/anshusahu/Documents/BeeClassificationProject/datasets/CustomBeeDataset/test/images/20240129160239_jpg.rf.278187c4caff61f4b29b811f887bc003.jpg: 640x640 4 Bees, 63.9ms\n",
      "Speed: 1.1ms preprocess, 63.9ms inference, 1.1ms postprocess per image at shape (1, 3, 640, 640)\n",
      "\n",
      "image 1/1 /Users/anshusahu/Documents/BeeClassificationProject/datasets/CustomBeeDataset/test/images/20240129160239_jpg.rf.278187c4caff61f4b29b811f887bc003.jpg: 640x640 4 Bees, 25.6ms\n",
      "Speed: 1.7ms preprocess, 25.6ms inference, 0.5ms postprocess per image at shape (1, 3, 640, 640)\n",
      "\n",
      "image 1/1 /Users/anshusahu/Documents/BeeClassificationProject/datasets/CustomBeeDataset/test/images/20240129160239_jpg.rf.278187c4caff61f4b29b811f887bc003.jpg: 640x640 4 Bees, 45.0ms\n",
      "Speed: 1.1ms preprocess, 45.0ms inference, 0.5ms postprocess per image at shape (1, 3, 640, 640)\n",
      "\n",
      "image 1/1 /Users/anshusahu/Documents/BeeClassificationProject/datasets/CustomBeeDataset/test/images/20240129160239_jpg.rf.278187c4caff61f4b29b811f887bc003.jpg: 640x640 4 Bees, 31.4ms\n",
      "Speed: 1.4ms preprocess, 31.4ms inference, 0.8ms postprocess per image at shape (1, 3, 640, 640)\n",
      "\n",
      "image 1/1 /Users/anshusahu/Documents/BeeClassificationProject/datasets/CustomBeeDataset/test/images/20240129160239_jpg.rf.278187c4caff61f4b29b811f887bc003.jpg: 640x640 4 Bees, 67.0ms\n",
      "Speed: 1.4ms preprocess, 67.0ms inference, 1.2ms postprocess per image at shape (1, 3, 640, 640)\n",
      "\n",
      "image 1/1 /Users/anshusahu/Documents/BeeClassificationProject/datasets/CustomBeeDataset/test/images/20240129160239_jpg.rf.278187c4caff61f4b29b811f887bc003.jpg: 640x640 4 Bees, 43.1ms\n",
      "Speed: 1.1ms preprocess, 43.1ms inference, 0.8ms postprocess per image at shape (1, 3, 640, 640)\n",
      "\n",
      "image 1/1 /Users/anshusahu/Documents/BeeClassificationProject/datasets/CustomBeeDataset/test/images/20240129160239_jpg.rf.278187c4caff61f4b29b811f887bc003.jpg: 640x640 4 Bees, 32.8ms\n",
      "Speed: 1.2ms preprocess, 32.8ms inference, 2.4ms postprocess per image at shape (1, 3, 640, 640)\n",
      "\n",
      "image 1/1 /Users/anshusahu/Documents/BeeClassificationProject/datasets/CustomBeeDataset/test/images/20240129160239_jpg.rf.278187c4caff61f4b29b811f887bc003.jpg: 640x640 4 Bees, 40.5ms\n",
      "Speed: 1.1ms preprocess, 40.5ms inference, 0.5ms postprocess per image at shape (1, 3, 640, 640)\n",
      "\n",
      "image 1/1 /Users/anshusahu/Documents/BeeClassificationProject/datasets/CustomBeeDataset/test/images/20240129160239_jpg.rf.278187c4caff61f4b29b811f887bc003.jpg: 640x640 4 Bees, 31.2ms\n",
      "Speed: 2.0ms preprocess, 31.2ms inference, 0.5ms postprocess per image at shape (1, 3, 640, 640)\n",
      "\n",
      "image 1/1 /Users/anshusahu/Documents/BeeClassificationProject/datasets/CustomBeeDataset/test/images/20240129160239_jpg.rf.278187c4caff61f4b29b811f887bc003.jpg: 640x640 4 Bees, 32.3ms\n",
      "Speed: 4.0ms preprocess, 32.3ms inference, 0.5ms postprocess per image at shape (1, 3, 640, 640)\n",
      "\n",
      "image 1/1 /Users/anshusahu/Documents/BeeClassificationProject/datasets/CustomBeeDataset/test/images/20240129160239_jpg.rf.278187c4caff61f4b29b811f887bc003.jpg: 640x640 4 Bees, 42.6ms\n",
      "Speed: 1.8ms preprocess, 42.6ms inference, 0.6ms postprocess per image at shape (1, 3, 640, 640)\n",
      "\n",
      "image 1/1 /Users/anshusahu/Documents/BeeClassificationProject/datasets/CustomBeeDataset/test/images/20240129160239_jpg.rf.278187c4caff61f4b29b811f887bc003.jpg: 640x640 4 Bees, 37.6ms\n",
      "Speed: 1.3ms preprocess, 37.6ms inference, 0.5ms postprocess per image at shape (1, 3, 640, 640)\n",
      "\n",
      "image 1/1 /Users/anshusahu/Documents/BeeClassificationProject/datasets/CustomBeeDataset/test/images/20240129160239_jpg.rf.278187c4caff61f4b29b811f887bc003.jpg: 640x640 4 Bees, 28.9ms\n",
      "Speed: 1.0ms preprocess, 28.9ms inference, 0.5ms postprocess per image at shape (1, 3, 640, 640)\n",
      "\n",
      "image 1/1 /Users/anshusahu/Documents/BeeClassificationProject/datasets/CustomBeeDataset/test/images/20240129160239_jpg.rf.278187c4caff61f4b29b811f887bc003.jpg: 640x640 4 Bees, 36.1ms\n",
      "Speed: 1.6ms preprocess, 36.1ms inference, 1.3ms postprocess per image at shape (1, 3, 640, 640)\n",
      "\n",
      "image 1/1 /Users/anshusahu/Documents/BeeClassificationProject/datasets/CustomBeeDataset/test/images/20240129160239_jpg.rf.278187c4caff61f4b29b811f887bc003.jpg: 640x640 4 Bees, 25.8ms\n",
      "Speed: 1.5ms preprocess, 25.8ms inference, 0.6ms postprocess per image at shape (1, 3, 640, 640)\n",
      "\n",
      "image 1/1 /Users/anshusahu/Documents/BeeClassificationProject/datasets/CustomBeeDataset/test/images/20240129160239_jpg.rf.278187c4caff61f4b29b811f887bc003.jpg: 640x640 4 Bees, 26.4ms\n",
      "Speed: 1.2ms preprocess, 26.4ms inference, 1.6ms postprocess per image at shape (1, 3, 640, 640)\n",
      "\n",
      "image 1/1 /Users/anshusahu/Documents/BeeClassificationProject/datasets/CustomBeeDataset/test/images/20240129160239_jpg.rf.278187c4caff61f4b29b811f887bc003.jpg: 640x640 4 Bees, 45.2ms\n",
      "Speed: 3.3ms preprocess, 45.2ms inference, 0.8ms postprocess per image at shape (1, 3, 640, 640)\n",
      "\n",
      "image 1/1 /Users/anshusahu/Documents/BeeClassificationProject/datasets/CustomBeeDataset/test/images/20240129160239_jpg.rf.278187c4caff61f4b29b811f887bc003.jpg: 640x640 4 Bees, 30.5ms\n",
      "Speed: 2.5ms preprocess, 30.5ms inference, 13.2ms postprocess per image at shape (1, 3, 640, 640)\n",
      "\n",
      "image 1/1 /Users/anshusahu/Documents/BeeClassificationProject/datasets/CustomBeeDataset/test/images/20240129160239_jpg.rf.278187c4caff61f4b29b811f887bc003.jpg: 640x640 4 Bees, 26.8ms\n",
      "Speed: 1.7ms preprocess, 26.8ms inference, 6.2ms postprocess per image at shape (1, 3, 640, 640)\n",
      "\n",
      "image 1/1 /Users/anshusahu/Documents/BeeClassificationProject/datasets/CustomBeeDataset/test/images/20240129160239_jpg.rf.278187c4caff61f4b29b811f887bc003.jpg: 640x640 4 Bees, 27.6ms\n",
      "Speed: 1.3ms preprocess, 27.6ms inference, 0.9ms postprocess per image at shape (1, 3, 640, 640)\n",
      "\n",
      "image 1/1 /Users/anshusahu/Documents/BeeClassificationProject/datasets/CustomBeeDataset/test/images/20240129160239_jpg.rf.278187c4caff61f4b29b811f887bc003.jpg: 640x640 4 Bees, 44.7ms\n",
      "Speed: 1.3ms preprocess, 44.7ms inference, 1.0ms postprocess per image at shape (1, 3, 640, 640)\n",
      "\n",
      "image 1/1 /Users/anshusahu/Documents/BeeClassificationProject/datasets/CustomBeeDataset/test/images/20240129160239_jpg.rf.278187c4caff61f4b29b811f887bc003.jpg: 640x640 4 Bees, 23.4ms\n",
      "Speed: 3.3ms preprocess, 23.4ms inference, 0.6ms postprocess per image at shape (1, 3, 640, 640)\n",
      "\n",
      "image 1/1 /Users/anshusahu/Documents/BeeClassificationProject/datasets/CustomBeeDataset/test/images/20240129160239_jpg.rf.278187c4caff61f4b29b811f887bc003.jpg: 640x640 4 Bees, 93.7ms\n",
      "Speed: 1.7ms preprocess, 93.7ms inference, 7.4ms postprocess per image at shape (1, 3, 640, 640)\n",
      "\n",
      "image 1/1 /Users/anshusahu/Documents/BeeClassificationProject/datasets/CustomBeeDataset/test/images/20240129160239_jpg.rf.278187c4caff61f4b29b811f887bc003.jpg: 640x640 4 Bees, 31.7ms\n",
      "Speed: 1.5ms preprocess, 31.7ms inference, 4.4ms postprocess per image at shape (1, 3, 640, 640)\n",
      "\n",
      "image 1/1 /Users/anshusahu/Documents/BeeClassificationProject/datasets/CustomBeeDataset/test/images/20240129160239_jpg.rf.278187c4caff61f4b29b811f887bc003.jpg: 640x640 4 Bees, 32.3ms\n",
      "Speed: 1.3ms preprocess, 32.3ms inference, 11.3ms postprocess per image at shape (1, 3, 640, 640)\n",
      "\n",
      "image 1/1 /Users/anshusahu/Documents/BeeClassificationProject/datasets/CustomBeeDataset/test/images/20240129160239_jpg.rf.278187c4caff61f4b29b811f887bc003.jpg: 640x640 4 Bees, 65.1ms\n",
      "Speed: 1.4ms preprocess, 65.1ms inference, 3.3ms postprocess per image at shape (1, 3, 640, 640)\n",
      "\n",
      "image 1/1 /Users/anshusahu/Documents/BeeClassificationProject/datasets/CustomBeeDataset/test/images/20240129160239_jpg.rf.278187c4caff61f4b29b811f887bc003.jpg: 640x640 4 Bees, 29.0ms\n",
      "Speed: 1.2ms preprocess, 29.0ms inference, 0.5ms postprocess per image at shape (1, 3, 640, 640)\n",
      "\n",
      "image 1/1 /Users/anshusahu/Documents/BeeClassificationProject/datasets/CustomBeeDataset/test/images/20240129160239_jpg.rf.278187c4caff61f4b29b811f887bc003.jpg: 640x640 4 Bees, 33.1ms\n",
      "Speed: 2.3ms preprocess, 33.1ms inference, 5.1ms postprocess per image at shape (1, 3, 640, 640)\n",
      "\n",
      "image 1/1 /Users/anshusahu/Documents/BeeClassificationProject/datasets/CustomBeeDataset/test/images/20240129160239_jpg.rf.278187c4caff61f4b29b811f887bc003.jpg: 640x640 4 Bees, 36.7ms\n",
      "Speed: 1.2ms preprocess, 36.7ms inference, 3.3ms postprocess per image at shape (1, 3, 640, 640)\n",
      "\n",
      "image 1/1 /Users/anshusahu/Documents/BeeClassificationProject/datasets/CustomBeeDataset/test/images/20240129160239_jpg.rf.278187c4caff61f4b29b811f887bc003.jpg: 640x640 4 Bees, 29.3ms\n",
      "Speed: 1.3ms preprocess, 29.3ms inference, 1.6ms postprocess per image at shape (1, 3, 640, 640)\n",
      "\n",
      "image 1/1 /Users/anshusahu/Documents/BeeClassificationProject/datasets/CustomBeeDataset/test/images/20240129160239_jpg.rf.278187c4caff61f4b29b811f887bc003.jpg: 640x640 4 Bees, 28.5ms\n",
      "Speed: 1.6ms preprocess, 28.5ms inference, 0.5ms postprocess per image at shape (1, 3, 640, 640)\n",
      "\n",
      "image 1/1 /Users/anshusahu/Documents/BeeClassificationProject/datasets/CustomBeeDataset/test/images/20240129160239_jpg.rf.278187c4caff61f4b29b811f887bc003.jpg: 640x640 4 Bees, 54.9ms\n",
      "Speed: 1.4ms preprocess, 54.9ms inference, 0.8ms postprocess per image at shape (1, 3, 640, 640)\n",
      "\n",
      "image 1/1 /Users/anshusahu/Documents/BeeClassificationProject/datasets/CustomBeeDataset/test/images/20240129160239_jpg.rf.278187c4caff61f4b29b811f887bc003.jpg: 640x640 4 Bees, 29.0ms\n",
      "Speed: 1.1ms preprocess, 29.0ms inference, 0.5ms postprocess per image at shape (1, 3, 640, 640)\n",
      "4.356510162353516\n"
     ]
    }
   ],
   "source": [
    "# model.export()\n",
    "#model.predict(\n",
    "#   source='/home/siotlab/Documents/BeehiveMonitoringProject/datasets/HoneyBeeSampleDataset/train/images/The-Bees-Are-Out----14th-March-2022-Sbd3sD47J28_x264_mov-12_jpg.rf.08d28ba81424ef1b87d0d95b91fe46bc.jpg',\n",
    "#   conf=0.25\n",
    "#)\n",
    "# model = YOLO('/Users/anshusahu/Documents/BeeClassificationProject/train111/weights/best.pt')  # build from YAML and transfer weights\n",
    "\n",
    "\n",
    "import os\n",
    "import time\n",
    "\n",
    "image_paths = [\n",
    "    '/Users/anshusahu/Documents/BeeClassificationProject/datasets/CustomBeeDataset/test/images/20240129160239_jpg.rf.278187c4caff61f4b29b811f887bc003.jpg',\n",
    "    '/Users/anshusahu/Documents/BeeClassificationProject/bee1.png',\n",
    "    '/Users/anshusahu/Documents/BeeClassificationProject/bee2.png',\n",
    "    '/Users/anshusahu/Documents/BeeClassificationProject/bee3.png',\n",
    "    '/Users/anshusahu/Documents/BeeClassificationProject/bee4.png',\n",
    "    '/Users/anshusahu/Documents/BeeClassificationProject/bee5.png'\n",
    "]\n",
    "\n",
    "for path in image_paths:\n",
    "    if not os.path.exists(path):\n",
    "        print(f\"File does not exist: {path}\")\n",
    "\n",
    "first = time.time()\n",
    "for i in range(0, 60):\n",
    "    results = ncnn_model(image_paths[0])  # return a list of Results objects\n",
    "\n",
    "    # Process results list\n",
    "    for i, result in enumerate(results):\n",
    "        boxes = result.boxes  # Boxes object for bounding box outputs\n",
    "        masks = result.masks  # Masks object for segmentation masks outputs\n",
    "        keypoints = result.keypoints  # Keypoints object for pose outputs\n",
    "        probs = result.probs  # Probs object for classification outputs\n",
    "        obb = result.obb  # Oriented boxes object for OBB outputs\n",
    "        #result.show()  # display to screen\n",
    "        #print(len(boxes))\n",
    "        file_name = 'result' + str(i) + '.jpg'\n",
    "        result.save(filename=file_name)  # save to disk\n",
    "\n",
    "second = time.time()\n",
    "print(second-first)"
   ]
  },
  {
   "cell_type": "code",
   "execution_count": null,
   "metadata": {},
   "outputs": [],
   "source": []
  },
  {
   "cell_type": "code",
   "execution_count": null,
   "metadata": {},
   "outputs": [],
   "source": []
  },
  {
   "cell_type": "code",
   "execution_count": null,
   "metadata": {},
   "outputs": [],
   "source": []
  }
 ],
 "metadata": {
  "kernelspec": {
   "display_name": "Python 3 (ipykernel)",
   "language": "python",
   "name": "python3"
  },
  "language_info": {
   "codemirror_mode": {
    "name": "ipython",
    "version": 3
   },
   "file_extension": ".py",
   "mimetype": "text/x-python",
   "name": "python",
   "nbconvert_exporter": "python",
   "pygments_lexer": "ipython3",
   "version": "3.11.5"
  },
  "vscode": {
   "interpreter": {
    "hash": "fb287adb3f1cf74b7a65d646b21d74324f7e73c1bd355e3dd14a5306196b70f7"
   }
  }
 },
 "nbformat": 4,
 "nbformat_minor": 4
}
